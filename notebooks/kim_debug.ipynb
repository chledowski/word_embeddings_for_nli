{
 "cells": [
  {
   "cell_type": "code",
   "execution_count": 3,
   "metadata": {},
   "outputs": [],
   "source": [
    "import numpy as np\n",
    "import os"
   ]
  },
  {
   "cell_type": "code",
   "execution_count": 4,
   "metadata": {},
   "outputs": [],
   "source": [
    "DATA_DIR = '/home/z1079621/storage/embeddings'"
   ]
  },
  {
   "cell_type": "code",
   "execution_count": 5,
   "metadata": {},
   "outputs": [],
   "source": [
    "missing_words = np.load(os.path.join(DATA_DIR, 'dumps/missing_words.npy'))"
   ]
  },
  {
   "cell_type": "code",
   "execution_count": 13,
   "metadata": {},
   "outputs": [
    {
     "data": {
      "text/plain": [
       "array([b'comera', b'L.E.D.', b'para-glides', b'tamberione', b'bawnfire',\n",
       "       b'Miradore', b'borader', b'groupf', b'hykes', b'weainr', b'Znocob',\n",
       "       b'litering', b'standint', b'groupf', b'classroomhave', b'cruilty',\n",
       "       b'outsidfe', b'Peoople', b'sunglesses', b'jetskii', b'quient',\n",
       "       b'Dirtbikers', b'wakling', b'brown-hooded', b'vvehicle',\n",
       "       b'creme-colored', b'<bos>', b'D.J.', b'discuusing',\n",
       "       b'sword-swallower', b'fire-dancers', b'menlift', b'straning',\n",
       "       b'houndds', b'TICKILING', b'76989', b'drum-off', b'soocerball',\n",
       "       b'un-knot', b'construcing', b'hay-filled', b'Newly-weds',\n",
       "       b'uniformde', b'toyless', b'accends', b'excericises', b\"O'Neil\",\n",
       "       b'stirefor', b'tonihgt', b'eperiments', b'swaetshirt',\n",
       "       b'tramopline', b'game.g', b'concreete', b'cappedhills',\n",
       "       b'game-boys', b'doorp-post', b'moutnain', b'R.V.',\n",
       "       b'oriental-themed', b'galcier', b'babrer', b'srteet',\n",
       "       b'skateboarx', b'garabe', b'shoeGasm', b'baskers', b'motorycles',\n",
       "       b'bunchh', b'burbur', b'Kawasaki-branded', b'crooquet',\n",
       "       b'causually-dressed', b'canldes', b'light-purple', b'pimp-themed',\n",
       "       b'gosseping', b'mime-cheating', b'game-boys', b'isnstrument',\n",
       "       b'Severals', b'binculars', b'hckey', b'vhef', b'Monolopy',\n",
       "       b'reasting', b'londan', b'Skimply', b'scenerey', b'foreround',\n",
       "       b'halftimer', b'chellos', b'12.99', b'vegetabls', b'RoadWork',\n",
       "       b'ficuses', b';d', b'Cuido', b'dry-coated', b'splots'],\n",
       "      dtype='|S20')"
      ]
     },
     "execution_count": 13,
     "metadata": {},
     "output_type": "execute_result"
    }
   ],
   "source": [
    "np.random.choice(missing_words, size=100)"
   ]
  },
  {
   "cell_type": "code",
   "execution_count": 12,
   "metadata": {},
   "outputs": [
    {
     "data": {
      "text/plain": [
       "array([b'zebraback', b'zipling', b'zombie-theme', b'zomboni', b'zookeper',\n",
       "       b'zookepers', b'zoomes', b'zooworker', b'zumbas', b'zylophone'],\n",
       "      dtype='|S20')"
      ]
     },
     "execution_count": 12,
     "metadata": {},
     "output_type": "execute_result"
    }
   ],
   "source": [
    "missing_words[-10:]\n"
   ]
  },
  {
   "cell_type": "code",
   "execution_count": null,
   "metadata": {},
   "outputs": [],
   "source": []
  }
 ],
 "metadata": {
  "kernelspec": {
   "display_name": "Python 3",
   "language": "python",
   "name": "python3"
  },
  "language_info": {
   "codemirror_mode": {
    "name": "ipython",
    "version": 3
   },
   "file_extension": ".py",
   "mimetype": "text/x-python",
   "name": "python",
   "nbconvert_exporter": "python",
   "pygments_lexer": "ipython3",
   "version": "3.6.6"
  }
 },
 "nbformat": 4,
 "nbformat_minor": 2
}
