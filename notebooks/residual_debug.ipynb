{
 "cells": [
  {
   "cell_type": "code",
   "execution_count": 1,
   "metadata": {},
   "outputs": [
    {
     "name": "stderr",
     "output_type": "stream",
     "text": [
      "Using TensorFlow backend.\n"
     ]
    }
   ],
   "source": [
    "import keras\n",
    "import keras.backend as K\n",
    "\n",
    "import tensorflow as tf\n",
    "\n",
    "from keras.layers import Add, Concatenate"
   ]
  },
  {
   "cell_type": "code",
   "execution_count": 181,
   "metadata": {},
   "outputs": [],
   "source": [
    "def _drop_mod(embeddings, normalize):\n",
    "    def _mod_drop_train(contextual, residual):\n",
    "        keep_configs = K.constant([[0, 1], \n",
    "                                   [1, 0], \n",
    "                                   [1, 1]], dtype='float32')\n",
    "\n",
    "        # scale by 1.0 / keep_prob\n",
    "        keep_configs_probs = K.mean(keep_configs, axis=0, keepdims=True)\n",
    "        keep_configs *= 1.0 / keep_configs_probs\n",
    "\n",
    "        # [batch_size, sen_length]\n",
    "        selectors = K.random_uniform(K.shape(contextual)[:2], 0, 3, 'int32')\n",
    "\n",
    "        # [batch_size, sen_length, 2, 1]\n",
    "        keep = K.expand_dims(K.gather(keep_configs, selectors))\n",
    "\n",
    "        # [batch_size, sen_length, 2, 2*emb_dim]\n",
    "        stacked_embeddings = K.stack([contextual, residual], axis=2)\n",
    "\n",
    "        # [batch_size, sen_length, 2*emb_dim]\n",
    "        return keep, selectors, K.sum(keep * stacked_embeddings, axis=2)\n",
    "\n",
    "    def _mod_drop_test(contextual, residual):\n",
    "        return K.constant([[1, 1]]), K.constant([[1]], 'int32'), Add()([contextual, residual])\n",
    "\n",
    "    contextual, residual = embeddings\n",
    "    # contextual: [batch, sen_length, 2*emb_dim]\n",
    "    # residual: [batch, sen_length, emb_dim]\n",
    "    residual = Concatenate()([residual, residual])\n",
    "\n",
    "    if normalize:\n",
    "        # [batch_size, sen_length, 1]\n",
    "        residual_norm = tf.norm(residual, keepdims=True)\n",
    "        # [batch_size, sen_length, 2*emb_dim]\n",
    "        unit_contextual = K.l2_normalize(contextual, axis=-1)\n",
    "        contextual = unit_contextual * residual_norm\n",
    "\n",
    "    return K.switch(K.learning_phase(),\n",
    "                    _mod_drop_train(contextual, residual),\n",
    "                    _mod_drop_test(contextual, residual))"
   ]
  },
  {
   "cell_type": "code",
   "execution_count": 182,
   "metadata": {},
   "outputs": [],
   "source": [
    "def build_model():\n",
    "    contextual = K.placeholder(shape=(None, None, 2))\n",
    "    residual = K.placeholder(shape=(None, None, 1))\n",
    "\n",
    "    output = _drop_mod([contextual, residual], normalize=False)\n",
    "    return [contextual, residual], output"
   ]
  },
  {
   "cell_type": "code",
   "execution_count": 183,
   "metadata": {},
   "outputs": [],
   "source": [
    "TRAINING_PHASE = 1\n",
    "TEST_PHASE = 0\n",
    "\n",
    "fixture = {\n",
    "    'contextual': [[[1, 1]]],\n",
    "    'residual': [[[2]]],\n",
    "    'expected': {\n",
    "        TRAINING_PHASE: [[[3, 3]]],\n",
    "        TEST_PHASE: [[[3, 3]]],\n",
    "    } \n",
    "}"
   ]
  },
  {
   "cell_type": "code",
   "execution_count": 217,
   "metadata": {},
   "outputs": [
    {
     "name": "stdout",
     "output_type": "stream",
     "text": [
      "(array([[[[0. ],\n",
      "         [1.5]]]], dtype=float32), array([[0]], dtype=int32), array([[[3., 3.]]], dtype=float32))\n"
     ]
    }
   ],
   "source": [
    "with tf.Graph().as_default():\n",
    "    [contextual, residual], output = build_model()\n",
    "    phase = K.learning_phase()\n",
    "    \n",
    "    with tf.Session() as sess:\n",
    "        K.set_session(sess)\n",
    "        print(sess.run(output, feed_dict={\n",
    "            contextual: fixture['contextual'],\n",
    "            residual: fixture['residual'],\n",
    "            phase: TRAINING_PHASE\n",
    "        }))"
   ]
  },
  {
   "cell_type": "code",
   "execution_count": 186,
   "metadata": {},
   "outputs": [
    {
     "ename": "AttributeError",
     "evalue": "'tuple' object has no attribute 'eval'",
     "output_type": "error",
     "traceback": [
      "\u001b[0;31m---------------------------------------------------------------------------\u001b[0m",
      "\u001b[0;31mAttributeError\u001b[0m                            Traceback (most recent call last)",
      "\u001b[0;32m<ipython-input-186-f178e28d5326>\u001b[0m in \u001b[0;36m<module>\u001b[0;34m()\u001b[0m\n\u001b[1;32m      6\u001b[0m         \u001b[0mK\u001b[0m\u001b[0;34m.\u001b[0m\u001b[0mset_session\u001b[0m\u001b[0;34m(\u001b[0m\u001b[0msess\u001b[0m\u001b[0;34m)\u001b[0m\u001b[0;34m\u001b[0m\u001b[0m\n\u001b[1;32m      7\u001b[0m         \u001b[0mK\u001b[0m\u001b[0;34m.\u001b[0m\u001b[0mset_learning_phase\u001b[0m\u001b[0;34m(\u001b[0m\u001b[0mTEST_PHASE\u001b[0m\u001b[0;34m)\u001b[0m\u001b[0;34m\u001b[0m\u001b[0m\n\u001b[0;32m----> 8\u001b[0;31m         real = joint.eval(feed_dict={\n\u001b[0m\u001b[1;32m      9\u001b[0m             \u001b[0mcontextual\u001b[0m\u001b[0;34m:\u001b[0m \u001b[0mfixture\u001b[0m\u001b[0;34m[\u001b[0m\u001b[0;34m'contextual'\u001b[0m\u001b[0;34m]\u001b[0m\u001b[0;34m,\u001b[0m\u001b[0;34m\u001b[0m\u001b[0m\n\u001b[1;32m     10\u001b[0m             \u001b[0mresidual\u001b[0m\u001b[0;34m:\u001b[0m \u001b[0mfixture\u001b[0m\u001b[0;34m[\u001b[0m\u001b[0;34m'residual'\u001b[0m\u001b[0;34m]\u001b[0m\u001b[0;34m,\u001b[0m\u001b[0;34m\u001b[0m\u001b[0m\n",
      "\u001b[0;31mAttributeError\u001b[0m: 'tuple' object has no attribute 'eval'"
     ]
    }
   ],
   "source": [
    "with tf.Graph().as_default():\n",
    "    [contextual, residual], joint = build_model()\n",
    "    phase = K.learning_phase()\n",
    "    \n",
    "    with tf.Session() as sess:\n",
    "        K.set_session(sess)\n",
    "        K.set_learning_phase(TEST_PHASE)\n",
    "        real = joint.eval(feed_dict={\n",
    "            contextual: fixture['contextual'],\n",
    "            residual: fixture['residual'],\n",
    "            phase: TEST_PHASE\n",
    "        })\n",
    "        print(real)"
   ]
  },
  {
   "cell_type": "code",
   "execution_count": null,
   "metadata": {},
   "outputs": [],
   "source": []
  }
 ],
 "metadata": {
  "kernelspec": {
   "display_name": "Python 3",
   "language": "python",
   "name": "python3"
  },
  "language_info": {
   "codemirror_mode": {
    "name": "ipython",
    "version": 3
   },
   "file_extension": ".py",
   "mimetype": "text/x-python",
   "name": "python",
   "nbconvert_exporter": "python",
   "pygments_lexer": "ipython3",
   "version": "3.6.6"
  }
 },
 "nbformat": 4,
 "nbformat_minor": 2
}
