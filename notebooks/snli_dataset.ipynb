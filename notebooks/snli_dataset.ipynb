{
 "cells": [
  {
   "cell_type": "code",
   "execution_count": 24,
   "metadata": {},
   "outputs": [
    {
     "name": "stdout",
     "output_type": "stream",
     "text": [
      "Requirement already satisfied: humanize in /mnt/storage/users/z1079621/condaenv/lib/python3.6/site-packages (0.5.1)\n"
     ]
    }
   ],
   "source": [
    "import hashlib\n",
    "!pip install humanize\n",
    "import humanize\n",
    "import matplotlib.pyplot as plt\n",
    "import numpy as np\n",
    "\n",
    "from tqdm import trange"
   ]
  },
  {
   "cell_type": "code",
   "execution_count": 8,
   "metadata": {},
   "outputs": [],
   "source": [
    "def hash(string):\n",
    "    m = hashlib.sha256()\n",
    "    m.update(string.encode('utf-8'))\n",
    "    return m.digest()"
   ]
  },
  {
   "cell_type": "code",
   "execution_count": 19,
   "metadata": {},
   "outputs": [
    {
     "name": "stderr",
     "output_type": "stream",
     "text": [
      "100%|██████████| 549367/549367 [00:03<00:00, 177229.49it/s]\n",
      "100%|██████████| 549367/549367 [00:02<00:00, 196820.45it/s]\n"
     ]
    }
   ],
   "source": [
    "hypo_path = \"/home/z1079621/storage/embeddings/snli/hypothesis_snli_1.0_train_token.txt\"\n",
    "prem_path = \"/home/z1079621/storage/embeddings/snli/premise_snli_1.0_train_token.txt\"\n",
    "\n",
    "hashes = set()\n",
    "words = 0\n",
    "\n",
    "for path in [prem_path, hypo_path]:\n",
    "    lines = 0\n",
    "    for i in open(path):\n",
    "        lines += 1\n",
    "    with open(path) as f:\n",
    "        for _ in trange(lines):\n",
    "            line = f.readline()\n",
    "            words += len(line.split())\n",
    "            hashes.add(hash(line))"
   ]
  },
  {
   "cell_type": "code",
   "execution_count": 20,
   "metadata": {},
   "outputs": [
    {
     "name": "stdout",
     "output_type": "stream",
     "text": [
      "618821\n",
      "12240821\n"
     ]
    }
   ],
   "source": [
    "print(len(hashes))\n",
    "print(words)"
   ]
  },
  {
   "cell_type": "code",
   "execution_count": 21,
   "metadata": {},
   "outputs": [
    {
     "data": {
      "text/plain": [
       "'100.3 GB'"
      ]
     },
     "execution_count": 21,
     "metadata": {},
     "output_type": "execute_result"
    }
   ],
   "source": [
    "humanize.naturalsize(words * 2 * 1024 * 4)"
   ]
  },
  {
   "cell_type": "code",
   "execution_count": 30,
   "metadata": {},
   "outputs": [
    {
     "name": "stderr",
     "output_type": "stream",
     "text": [
      "100%|██████████| 549367/549367 [00:02<00:00, 228850.23it/s]\n",
      "100%|██████████| 549367/549367 [00:02<00:00, 259089.50it/s]\n"
     ]
    }
   ],
   "source": [
    "sen_lens = []\n",
    "total_lens = 0\n",
    "total_padded_lens = 0\n",
    "total_max_batch_padded_lens = 0\n",
    "\n",
    "batch_size = 32\n",
    "\n",
    "for path in [prem_path, hypo_path]:\n",
    "    lines = 0\n",
    "    for i in open(path):\n",
    "        lines += 1\n",
    "    with open(path) as f:\n",
    "        batch = []\n",
    "        for _ in trange(lines):\n",
    "            line = f.readline()\n",
    "            sen_len = len(line.split())\n",
    "            sen_lens.append(sen_len)\n",
    "            batch.append(sen_len)\n",
    "            total_lens += sen_len\n",
    "            total_padded_lens += 90\n",
    "            if len(batch) >= batch_size:\n",
    "                total_max_batch_padded_lens += np.max(batch) * batch_size\n",
    "                batch = []"
   ]
  },
  {
   "cell_type": "code",
   "execution_count": 26,
   "metadata": {},
   "outputs": [
    {
     "data": {
      "image/png": "[encoded data removed]",
      "text/plain": [
       "<Figure size 432x288 with 1 Axes>"
      ]
     },
     "metadata": {},
     "output_type": "display_data"
    }
   ],
   "source": [
    "plt.hist(sen_lens, bins=80)\n",
    "plt.show()"
   ]
  },
  {
   "cell_type": "code",
   "execution_count": 34,
   "metadata": {},
   "outputs": [
    {
     "name": "stdout",
     "output_type": "stream",
     "text": [
      "Total sentence lengths: 12240821\n",
      "Total sentence lengths after fixed padding: 98886060\n",
      "Total sentence lengths after max-in-batch padding: 21772512\n"
     ]
    }
   ],
   "source": [
    "print(\"Total sentence lengths:\", total_lens)\n",
    "print(\"Total sentence lengths after fixed padding:\", total_padded_lens)\n",
    "print(\"Total sentence lengths after max-in-batch padding:\", total_max_batch_padded_lens)"
   ]
  },
  {
   "cell_type": "code",
   "execution_count": null,
   "metadata": {},
   "outputs": [],
   "source": []
  }
 ],
 "metadata": {
  "kernelspec": {
   "display_name": "Python 3",
   "language": "python",
   "name": "python3"
  },
  "language_info": {
   "codemirror_mode": {
    "name": "ipython",
    "version": 3
   },
   "file_extension": ".py",
   "mimetype": "text/x-python",
   "name": "python",
   "nbconvert_exporter": "python",
   "pygments_lexer": "ipython3",
   "version": "3.6.6"
  }
 },
 "nbformat": 4,
 "nbformat_minor": 2
}
