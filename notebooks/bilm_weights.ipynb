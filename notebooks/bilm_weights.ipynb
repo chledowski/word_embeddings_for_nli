{
 "cells": [
  {
   "cell_type": "code",
   "execution_count": 1,
   "metadata": {},
   "outputs": [],
   "source": [
    "import h5py\n",
    "import matplotlib.pyplot as plt\n",
    "import numpy as np"
   ]
  },
  {
   "cell_type": "code",
   "execution_count": 11,
   "metadata": {},
   "outputs": [
    {
     "name": "stdout",
     "output_type": "stream",
     "text": [
      " CNN\n",
      "-- W_cnn_0\n",
      "-- W_cnn_1\n",
      "-- W_cnn_2\n",
      "-- W_cnn_3\n",
      "-- W_cnn_4\n",
      "-- W_cnn_5\n",
      "-- W_cnn_6\n",
      "-- b_cnn_0\n",
      "-- b_cnn_1\n",
      "-- b_cnn_2\n",
      "-- b_cnn_3\n",
      "-- b_cnn_4\n",
      "-- b_cnn_5\n",
      "-- b_cnn_6\n",
      " CNN_high_0\n",
      "-- W_carry\n",
      "-- W_transform\n",
      "-- b_carry\n",
      "-- b_transform\n",
      " CNN_high_1\n",
      "-- W_carry\n",
      "-- W_transform\n",
      "-- b_carry\n",
      "-- b_transform\n",
      " CNN_proj\n",
      "-- W_proj\n",
      "-- b_proj\n",
      " RNN_0\n",
      "-- RNN\n",
      "---- MultiRNNCell\n",
      "------ Cell0\n",
      "-------- LSTMCell\n",
      "---------- B\n",
      "---------- W_0\n",
      "---------- W_P_0\n",
      "------ Cell1\n",
      "-------- LSTMCell\n",
      "---------- B\n",
      "---------- W_0\n",
      "---------- W_P_0\n",
      " RNN_1\n",
      "-- RNN\n",
      "---- MultiRNNCell\n",
      "------ Cell0\n",
      "-------- LSTMCell\n",
      "---------- B\n",
      "---------- W_0\n",
      "---------- W_P_0\n",
      "------ Cell1\n",
      "-------- LSTMCell\n",
      "---------- B\n",
      "---------- W_0\n",
      "---------- W_P_0\n",
      " char_embed\n"
     ]
    }
   ],
   "source": [
    "def print_weights(node, indent=0):\n",
    "    if not hasattr(node, 'keys'):\n",
    "        return\n",
    "    for child in list(node.keys()):\n",
    "        print('-' * indent, child)\n",
    "        print_weights(node[child], indent+2)\n",
    "\n",
    "with h5py.File(\"/home/z1079621/storage/embeddings/elmo/lm_weights.hdf5\") as f:\n",
    "    print_weights(f)"
   ]
  },
  {
   "cell_type": "code",
   "execution_count": null,
   "metadata": {},
   "outputs": [],
   "source": []
  }
 ],
 "metadata": {
  "kernelspec": {
   "display_name": "Python 3",
   "language": "python",
   "name": "python3"
  },
  "language_info": {
   "codemirror_mode": {
    "name": "ipython",
    "version": 3
   },
   "file_extension": ".py",
   "mimetype": "text/x-python",
   "name": "python",
   "nbconvert_exporter": "python",
   "pygments_lexer": "ipython3",
   "version": "3.6.6"
  }
 },
 "nbformat": 4,
 "nbformat_minor": 2
}
