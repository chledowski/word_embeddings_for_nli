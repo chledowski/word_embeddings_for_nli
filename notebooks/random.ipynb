{
 "cells": [
  {
   "cell_type": "code",
   "execution_count": 1,
   "metadata": {},
   "outputs": [],
   "source": [
    "import h5py"
   ]
  },
  {
   "cell_type": "code",
   "execution_count": 10,
   "metadata": {},
   "outputs": [
    {
     "name": "stdout",
     "output_type": "stream",
     "text": [
      "['embedding', 'words_flatten']\n",
      "<HDF5 dataset \"embedding\": shape (2029175, 300), type \"<f8\">\n",
      "2029175\n"
     ]
    }
   ],
   "source": [
    "with h5py.File(\"/home/z1079621/storage/embeddings/embeddings/gcc840_mnli_gcc840_fq_12_q.h5\") as f:\n",
    "    print(list(f.keys()))\n",
    "    print(f['embedding'])\n",
    "    print(len(f['words_flatten'][0].split()))"
   ]
  },
  {
   "cell_type": "code",
   "execution_count": 9,
   "metadata": {},
   "outputs": [
    {
     "name": "stdout",
     "output_type": "stream",
     "text": [
      "['embedding', 'words_flatten']\n",
      "<HDF5 dataset \"embedding\": shape (2029175, 300), type \"<f4\">\n",
      "2029175\n"
     ]
    }
   ],
   "source": [
    "with h5py.File(\"/home/z1079621/storage/embeddings/embeddings/gcc840_snli_gcc840_fq_12.h5\") as f:\n",
    "    print(list(f.keys()))\n",
    "    print(f['embedding'])\n",
    "    print(len(f['words_flatten'][0].split()))"
   ]
  },
  {
   "cell_type": "code",
   "execution_count": null,
   "metadata": {},
   "outputs": [],
   "source": []
  }
 ],
 "metadata": {
  "kernelspec": {
   "display_name": "Python 3",
   "language": "python",
   "name": "python3"
  },
  "language_info": {
   "codemirror_mode": {
    "name": "ipython",
    "version": 3
   },
   "file_extension": ".py",
   "mimetype": "text/x-python",
   "name": "python",
   "nbconvert_exporter": "python",
   "pygments_lexer": "ipython3",
   "version": "3.6.6"
  }
 },
 "nbformat": 4,
 "nbformat_minor": 2
}
