{
 "cells": [
  {
   "cell_type": "code",
   "execution_count": 2,
   "metadata": {},
   "outputs": [],
   "source": [
    "import json\n",
    "import pandas as pd"
   ]
  },
  {
   "cell_type": "code",
   "execution_count": 5,
   "metadata": {},
   "outputs": [],
   "source": [
    "df = pd.DataFrame(columns=[\"Model\", \"MEN\", \"WS353\", \"SimLex\", \"loss\"])"
   ]
  },
  {
   "cell_type": "code",
   "execution_count": 6,
   "metadata": {},
   "outputs": [],
   "source": [
    "with open(\"/home/z1079621/storage/embeddings/results/esim_to_restore/restorer_results.json\") as f:\n",
    "    data = json.load(f)\n",
    "    \n",
    "parsed_data = {}\n",
    "for k, v in data.items():\n",
    "    s, num = k.split('_')\n",
    "    new_k = \"%s_%02d\" % (s, int(num))\n",
    "#     new_k = new_k.replace(\"epoch_00\", \"_original_glove\")\n",
    "    parsed_data[new_k] = v"
   ]
  },
  {
   "cell_type": "code",
   "execution_count": 7,
   "metadata": {},
   "outputs": [
    {
     "data": {
      "text/html": [
       "<div>\n",
       "<style scoped>\n",
       "    .dataframe tbody tr th:only-of-type {\n",
       "        vertical-align: middle;\n",
       "    }\n",
       "\n",
       "    .dataframe tbody tr th {\n",
       "        vertical-align: top;\n",
       "    }\n",
       "\n",
       "    .dataframe thead th {\n",
       "        text-align: right;\n",
       "    }\n",
       "</style>\n",
       "<table border=\"1\" class=\"dataframe\">\n",
       "  <thead>\n",
       "    <tr style=\"text-align: right;\">\n",
       "      <th></th>\n",
       "      <th>MEN</th>\n",
       "      <th>SimLex999</th>\n",
       "      <th>WS353</th>\n",
       "      <th>loss</th>\n",
       "    </tr>\n",
       "  </thead>\n",
       "  <tbody>\n",
       "    <tr>\n",
       "      <th>epoch_00</th>\n",
       "      <td>0.778952</td>\n",
       "      <td>0.366717</td>\n",
       "      <td>0.567737</td>\n",
       "      <td>2.005297</td>\n",
       "    </tr>\n",
       "    <tr>\n",
       "      <th>epoch_01</th>\n",
       "      <td>0.764275</td>\n",
       "      <td>0.326739</td>\n",
       "      <td>0.499154</td>\n",
       "      <td>12.195054</td>\n",
       "    </tr>\n",
       "    <tr>\n",
       "      <th>epoch_02</th>\n",
       "      <td>0.771387</td>\n",
       "      <td>0.330414</td>\n",
       "      <td>0.495495</td>\n",
       "      <td>12.088985</td>\n",
       "    </tr>\n",
       "    <tr>\n",
       "      <th>epoch_03</th>\n",
       "      <td>0.773173</td>\n",
       "      <td>0.331868</td>\n",
       "      <td>0.491391</td>\n",
       "      <td>13.058824</td>\n",
       "    </tr>\n",
       "    <tr>\n",
       "      <th>epoch_04</th>\n",
       "      <td>0.774171</td>\n",
       "      <td>0.340038</td>\n",
       "      <td>0.493618</td>\n",
       "      <td>11.720707</td>\n",
       "    </tr>\n",
       "    <tr>\n",
       "      <th>epoch_05</th>\n",
       "      <td>0.772383</td>\n",
       "      <td>0.343927</td>\n",
       "      <td>0.503532</td>\n",
       "      <td>13.756411</td>\n",
       "    </tr>\n",
       "    <tr>\n",
       "      <th>epoch_06</th>\n",
       "      <td>0.774959</td>\n",
       "      <td>0.338378</td>\n",
       "      <td>0.497016</td>\n",
       "      <td>12.141936</td>\n",
       "    </tr>\n",
       "    <tr>\n",
       "      <th>epoch_07</th>\n",
       "      <td>0.776960</td>\n",
       "      <td>0.339139</td>\n",
       "      <td>0.491575</td>\n",
       "      <td>13.283145</td>\n",
       "    </tr>\n",
       "    <tr>\n",
       "      <th>epoch_08</th>\n",
       "      <td>0.776209</td>\n",
       "      <td>0.340692</td>\n",
       "      <td>0.504684</td>\n",
       "      <td>14.046845</td>\n",
       "    </tr>\n",
       "    <tr>\n",
       "      <th>epoch_09</th>\n",
       "      <td>0.771089</td>\n",
       "      <td>0.340717</td>\n",
       "      <td>0.498053</td>\n",
       "      <td>14.652857</td>\n",
       "    </tr>\n",
       "    <tr>\n",
       "      <th>epoch_10</th>\n",
       "      <td>0.769487</td>\n",
       "      <td>0.338880</td>\n",
       "      <td>0.491451</td>\n",
       "      <td>13.829281</td>\n",
       "    </tr>\n",
       "    <tr>\n",
       "      <th>epoch_11</th>\n",
       "      <td>0.768688</td>\n",
       "      <td>0.343397</td>\n",
       "      <td>0.505210</td>\n",
       "      <td>15.191872</td>\n",
       "    </tr>\n",
       "    <tr>\n",
       "      <th>epoch_12</th>\n",
       "      <td>0.770164</td>\n",
       "      <td>0.336870</td>\n",
       "      <td>0.501384</td>\n",
       "      <td>13.424323</td>\n",
       "    </tr>\n",
       "    <tr>\n",
       "      <th>epoch_13</th>\n",
       "      <td>0.769631</td>\n",
       "      <td>0.341808</td>\n",
       "      <td>0.494661</td>\n",
       "      <td>13.855492</td>\n",
       "    </tr>\n",
       "    <tr>\n",
       "      <th>epoch_14</th>\n",
       "      <td>0.769678</td>\n",
       "      <td>0.343437</td>\n",
       "      <td>0.496299</td>\n",
       "      <td>14.749938</td>\n",
       "    </tr>\n",
       "    <tr>\n",
       "      <th>epoch_15</th>\n",
       "      <td>0.770008</td>\n",
       "      <td>0.343962</td>\n",
       "      <td>0.500527</td>\n",
       "      <td>14.786069</td>\n",
       "    </tr>\n",
       "    <tr>\n",
       "      <th>epoch_16</th>\n",
       "      <td>0.770322</td>\n",
       "      <td>0.344461</td>\n",
       "      <td>0.500409</td>\n",
       "      <td>14.690674</td>\n",
       "    </tr>\n",
       "    <tr>\n",
       "      <th>epoch_17</th>\n",
       "      <td>0.768211</td>\n",
       "      <td>0.346279</td>\n",
       "      <td>0.502179</td>\n",
       "      <td>15.721629</td>\n",
       "    </tr>\n",
       "    <tr>\n",
       "      <th>epoch_18</th>\n",
       "      <td>0.771272</td>\n",
       "      <td>0.344232</td>\n",
       "      <td>0.500013</td>\n",
       "      <td>14.531866</td>\n",
       "    </tr>\n",
       "    <tr>\n",
       "      <th>epoch_19</th>\n",
       "      <td>0.771058</td>\n",
       "      <td>0.344837</td>\n",
       "      <td>0.500779</td>\n",
       "      <td>14.929020</td>\n",
       "    </tr>\n",
       "    <tr>\n",
       "      <th>epoch_20</th>\n",
       "      <td>0.735087</td>\n",
       "      <td>0.435051</td>\n",
       "      <td>0.513828</td>\n",
       "      <td>120.564628</td>\n",
       "    </tr>\n",
       "  </tbody>\n",
       "</table>\n",
       "</div>"
      ],
      "text/plain": [
       "               MEN  SimLex999     WS353        loss\n",
       "epoch_00  0.778952   0.366717  0.567737    2.005297\n",
       "epoch_01  0.764275   0.326739  0.499154   12.195054\n",
       "epoch_02  0.771387   0.330414  0.495495   12.088985\n",
       "epoch_03  0.773173   0.331868  0.491391   13.058824\n",
       "epoch_04  0.774171   0.340038  0.493618   11.720707\n",
       "epoch_05  0.772383   0.343927  0.503532   13.756411\n",
       "epoch_06  0.774959   0.338378  0.497016   12.141936\n",
       "epoch_07  0.776960   0.339139  0.491575   13.283145\n",
       "epoch_08  0.776209   0.340692  0.504684   14.046845\n",
       "epoch_09  0.771089   0.340717  0.498053   14.652857\n",
       "epoch_10  0.769487   0.338880  0.491451   13.829281\n",
       "epoch_11  0.768688   0.343397  0.505210   15.191872\n",
       "epoch_12  0.770164   0.336870  0.501384   13.424323\n",
       "epoch_13  0.769631   0.341808  0.494661   13.855492\n",
       "epoch_14  0.769678   0.343437  0.496299   14.749938\n",
       "epoch_15  0.770008   0.343962  0.500527   14.786069\n",
       "epoch_16  0.770322   0.344461  0.500409   14.690674\n",
       "epoch_17  0.768211   0.346279  0.502179   15.721629\n",
       "epoch_18  0.771272   0.344232  0.500013   14.531866\n",
       "epoch_19  0.771058   0.344837  0.500779   14.929020\n",
       "epoch_20  0.735087   0.435051  0.513828  120.564628"
      ]
     },
     "execution_count": 7,
     "metadata": {},
     "output_type": "execute_result"
    }
   ],
   "source": [
    "original_glove = {\n",
    "    \"MEN\": 0.7793,\n",
    "    \"SimLex999\": 0.3691,\n",
    "    \"WS353\": 0.5714\n",
    "}\n",
    "\n",
    "df = pd.DataFrame.from_dict(parsed_data).T.sort_index()\n",
    "df"
   ]
  },
  {
   "cell_type": "code",
   "execution_count": 19,
   "metadata": {},
   "outputs": [
    {
     "data": {
      "image/png": "[encoded data removed]",
      "text/plain": [
       "<Figure size 432x288 with 1 Axes>"
      ]
     },
     "metadata": {},
     "output_type": "display_data"
    }
   ],
   "source": [
    "import matplotlib.pyplot as plt\n",
    "\n",
    "fig, ax = plt.subplots()\n",
    "ax.plot(range(1, 1+epochs), df['loss'].values[1:epochs+1], label='Restorer validation loss', color='r')\n",
    "ax.plot(range(1, 1+epochs), epochs * [df['loss'][0]], dashes=[1, 1], color='r')\n",
    "plt.xticks(range(1, 1+epochs))\n",
    "plt.xlabel(\"ESIM training epoch\")\n",
    "plt.ylabel(\"Loss function value\")\n",
    "# plt.legend()\n",
    "plt.show()"
   ]
  },
  {
   "cell_type": "code",
   "execution_count": 15,
   "metadata": {},
   "outputs": [
    {
     "data": {
      "text/plain": [
       "<matplotlib.legend.Legend at 0x7f78ab1a8f60>"
      ]
     },
     "execution_count": 15,
     "metadata": {},
     "output_type": "execute_result"
    },
    {
     "data": {
      "image/png": "[encoded data removed]",
      "text/plain": [
       "<Figure size 432x288 with 1 Axes>"
      ]
     },
     "metadata": {},
     "output_type": "display_data"
    }
   ],
   "source": [
    "fig, ax = plt.subplots()\n",
    "epochs = 19\n",
    "for column, color in zip(['MEN', 'SimLex999', 'WS353'], ['b', 'r', 'g']):\n",
    "    ax.plot(range(1, 1+epochs), df[column].values[1:epochs+1], label=column, color=color)\n",
    "    ax.plot(range(1, 1+epochs), epochs * [df[column][0]], dashes=[1, 1], color=color, label='Restored org. glove')\n",
    "    \n",
    "plt.xticks(range(1, epochs+1))\n",
    "plt.legend()"
   ]
  },
  {
   "cell_type": "code",
   "execution_count": null,
   "metadata": {},
   "outputs": [],
   "source": []
  },
  {
   "cell_type": "code",
   "execution_count": null,
   "metadata": {},
   "outputs": [],
   "source": []
  }
 ],
 "metadata": {
  "kernelspec": {
   "display_name": "Python 3",
   "language": "python",
   "name": "python3"
  },
  "language_info": {
   "codemirror_mode": {
    "name": "ipython",
    "version": 3
   },
   "file_extension": ".py",
   "mimetype": "text/x-python",
   "name": "python",
   "nbconvert_exporter": "python",
   "pygments_lexer": "ipython3",
   "version": "3.6.6"
  }
 },
 "nbformat": 4,
 "nbformat_minor": 2
}
